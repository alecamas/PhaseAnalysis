{
 "cells": [
  {
   "cell_type": "code",
   "execution_count": null,
   "metadata": {},
   "outputs": [],
   "source": [
    "import os\n",
    "import numpy as np\n",
    "import scipy.io as sci_io\n",
    "import matplotlib.pyplot as plt\n",
    "import nitime.algorithms as tsa\n",
    "from mpl_toolkits.axes_grid1 import host_subplot\n",
    "import mpl_toolkits.axisartist as AA\n",
    "import warnings\n",
    "import math\n",
    "from math import e\n",
    "import neo as ne\n",
    "import scipy as sc\n",
    "import scipy.signal as signal\n",
    "from pathlib import Path\n",
    "warnings.filterwarnings('ignore')\n",
    "import quantities as pq\n",
    "from scipy.signal import hilbert, chirp\n",
    "from scipy.signal import butter, sosfilt, sosfreqz, resample"
   ]
  },
  {
   "cell_type": "code",
   "execution_count": null,
   "metadata": {},
   "outputs": [],
   "source": [
    "DataDir = 'E:/Documents/ALESSANDRA/PROPAGATION/DC/BMI_Almu/181009/Rec09_3BMI08_DC5'\n",
    "# DataDir = './frontalD300'\n",
    "\n",
    "File1 = DataDir + '/Sig.mat'\n",
    "mat_contents = sci_io.loadmat(File1)\n",
    "Signal=mat_contents['S']\n",
    "fs=9.9206e+03\n",
    "rs=np.array(Signal)\n",
    "\n",
    "File2 = DataDir + '/Mua.mat'\n",
    "mat_contents2 = sci_io.loadmat(File2)\n",
    "Mua=mat_contents2['Mua']\n",
    "\n",
    "fsMua=198.4127\n",
    "\n",
    "MUA=np.zeros((16,np.shape(rs)[1]))\n",
    "for i in range(16):\n",
    "    MUA[i,:]=resample(Mua[i],np.shape(rs)[1])"
   ]
  },
  {
   "cell_type": "code",
   "execution_count": null,
   "metadata": {},
   "outputs": [],
   "source": [
    "analytic_signal=[]\n",
    "amplitude_envelope=[]\n",
    "instantaneous_phase=np.zeros((16,np.shape(rs)[1]))\n",
    "iph=np.zeros((16,np.shape(rs)[1]))\n",
    "instantaneous_frequency=np.zeros((16,np.shape(rs)[1]))\n",
    "\n",
    "for ch in range(len(rs)):\n",
    "    an_sig=hilbert(rs[ch])\n",
    "#     analytic_signal=(an_sig)\n",
    "#     amplitude_envelope=(np.abs(an_sig))\n",
    "    instantaneous_phase[ch,:]=((np.angle(an_sig)))\n",
    "    iph[ch,:]=np.unwrap(np.angle(an_sig))\n",
    "#     instantaneous_frequency[ch,:] = (np.diff(iph) /(2.0*np.pi) * fs)"
   ]
  },
  {
   "cell_type": "code",
   "execution_count": null,
   "metadata": {},
   "outputs": [],
   "source": [
    "B=np.arange(-math.pi,math.pi+0.15707963267948966,0.15707963267948966)\n",
    "ph=np.empty((16))\n",
    "H=np.zeros((np.shape(B)[0]-1,np.shape(rs)[1]))\n",
    "\n",
    "for t in range(len(instantaneous_phase[0])):\n",
    "    for ch in range(len(instantaneous_phase)):\n",
    "#         print(ch,t)\n",
    "        ph[ch]=instantaneous_phase[ch][t]\n",
    "    hist, b = np.histogram(ph,bins=B)\n",
    "    H[:,t]=hist\n",
    "    ph=np.empty((16))"
   ]
  },
  {
   "cell_type": "code",
   "execution_count": null,
   "metadata": {},
   "outputs": [],
   "source": [
    "Dph=np.empty((120))\n",
    "dH=np.zeros((np.shape(B)[0]-1,np.shape(rs)[1]))\n",
    "\n",
    "n=0\n",
    "\n",
    "for t in range(np.shape(instantaneous_phase)[1]):\n",
    "    for i in range(0,16):\n",
    "        for j in range(i+1,16):\n",
    "            Dph[n]=(instantaneous_phase[i][t]-instantaneous_phase[j][t])\n",
    "            n=n+1\n",
    "\n",
    "    \n",
    "    hist, b = np.histogram(Dph,bins=B)\n",
    "    dH[:,t]=hist\n",
    "    Dph=np.empty((120))\n",
    "    n=0       "
   ]
  },
  {
   "cell_type": "code",
   "execution_count": null,
   "metadata": {},
   "outputs": [],
   "source": [
    "synch=np.empty(len(instantaneous_phase[0]))\n",
    "s=0\n",
    "for t in range(len(instantaneous_phase[0])):\n",
    "    for ch in range(16):\n",
    "        s = s + e ** complex(0,instantaneous_phase[ch][t])\n",
    "    synch[t]=(1/16)*abs(s)\n",
    "    s=0"
   ]
  },
  {
   "cell_type": "code",
   "execution_count": null,
   "metadata": {},
   "outputs": [],
   "source": [
    "from scipy.signal import butter, lfilter, freqz\n",
    "\n",
    "def butter_lowpass(cutoff, fs, order=5):\n",
    "    nyq = 0.5 * fs\n",
    "    normal_cutoff = cutoff / nyq\n",
    "    b, a = butter(order, normal_cutoff, btype='low', analog=False)\n",
    "    return b, a\n",
    "\n",
    "def butter_lowpass_filter(data, cutoff, fs, order=5):\n",
    "    b, a = butter_lowpass(cutoff, fs, order=order)\n",
    "    y = lfilter(b, a, data)\n",
    "    return y\n",
    "\n",
    "\n",
    "# Filter requirements.\n",
    "order = 6\n",
    "# fs = 30.0       # sample rate, Hz\n",
    "cutoff = 10  # desired cutoff frequency of the filter, Hz\n",
    "# Get the filter coefficients so we can check its frequency response.\n",
    "b, a = butter_lowpass(cutoff, fs, order)\n",
    "\n",
    "# Plot the frequency response.\n",
    "w, h = freqz(b, a, worN=8000)\n",
    "data = synch\n",
    "# Filter the data, and plot both the original and filtered signals.\n",
    "y = butter_lowpass_filter(data, cutoff, fs, order)\n",
    "\n",
    "Mean_synch=np.mean(synch)\n",
    "print(Mean_synch)"
   ]
  },
  {
   "cell_type": "code",
   "execution_count": null,
   "metadata": {},
   "outputs": [],
   "source": [
    "plt.figure(figsize=(15, 15))\n",
    "ax=plt.subplot(411)\n",
    "aa=plt.imshow(H, aspect='auto')\n",
    "aa.set_clim(0,5)\n",
    "# plt.colorbar(aa)\n",
    "plt.title('BMI0.8 Phase Histogram')\n",
    "plt.ylabel('phase bins')\n",
    "ax1=plt.subplot(412,sharex=ax)\n",
    "ax1=plt.imshow(dH, aspect='auto')\n",
    "ax1.set_clim(0,30)\n",
    "# plt.colorbar(ax1)\n",
    "plt.title('Phase difference Histogram')\n",
    "plt.ylabel('phase bins')\n",
    "ax2=plt.subplot(413,sharex=ax)\n",
    "plt.plot(y)\n",
    "plt.plot(np.ones(len(y))*Mean_synch,'r')\n",
    "# plt.plot(sH,'g')\n",
    "plt.ylabel('Network synchrony')\n",
    "ax3=plt.subplot(414,sharex=ax)\n",
    "\n",
    "from matplotlib.pyplot import cm\n",
    "color=cm.rainbow(np.linspace(0,1,16))\n",
    "    \n",
    "for sig, c in zip(MUA, color):\n",
    "    plt.plot(sig, c=c, alpha=0.5, linewidth=2)  # dibujo\n",
    "    plt.title('trial average all waves')   \n",
    "\n",
    "# plt.plot(MUA[0])\n",
    "# plt.plot(MUA[31])\n",
    "plt.ylabel('MUA')\n",
    "plt.xlabel('Samples')\n",
    "plt.xlim(0,len(MUA[0]))"
   ]
  },
  {
   "cell_type": "code",
   "execution_count": null,
   "metadata": {},
   "outputs": [],
   "source": [
    "# %pylab"
   ]
  },
  {
   "cell_type": "code",
   "execution_count": null,
   "metadata": {},
   "outputs": [],
   "source": []
  },
  {
   "cell_type": "code",
   "execution_count": null,
   "metadata": {},
   "outputs": [],
   "source": []
  }
 ],
 "metadata": {
  "kernelspec": {
   "display_name": "Python 3",
   "language": "python",
   "name": "python3"
  },
  "language_info": {
   "codemirror_mode": {
    "name": "ipython",
    "version": 3
   },
   "file_extension": ".py",
   "mimetype": "text/x-python",
   "name": "python",
   "nbconvert_exporter": "python",
   "pygments_lexer": "ipython3",
   "version": "3.7.0"
  }
 },
 "nbformat": 4,
 "nbformat_minor": 2
}
