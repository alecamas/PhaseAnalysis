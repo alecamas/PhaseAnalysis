{
 "cells": [
  {
   "cell_type": "code",
   "execution_count": 1,
   "metadata": {},
   "outputs": [],
   "source": [
    "import os\n",
    "import numpy as np\n",
    "import scipy.io as sci_io\n",
    "import matplotlib.pyplot as plt\n",
    "import nitime.algorithms as tsa\n",
    "from mpl_toolkits.axes_grid1 import host_subplot\n",
    "import mpl_toolkits.axisartist as AA\n",
    "import warnings\n",
    "import math\n",
    "import neo as ne\n",
    "import scipy.signal as signal\n",
    "from pathlib import Path\n",
    "warnings.filterwarnings('ignore')\n",
    "import quantities as pq\n",
    "from scipy.signal import hilbert, chirp\n",
    "from scipy.signal import butter, sosfilt, sosfreqz, resample"
   ]
  },
  {
   "cell_type": "code",
   "execution_count": 2,
   "metadata": {},
   "outputs": [],
   "source": [
    "DataDir = 'E:/Documents/ALESSANDRA/PROPAGATION/APP/Data/161208_APP_WT/161208_rec11_Propagation_000'\n",
    "# DataDir = './frontalD300'\n",
    "\n",
    "File1 = DataDir + '/Sfilt.mat'\n",
    "mat_contents = sci_io.loadmat(File1)\n",
    "Signal=mat_contents['Sfilt']\n",
    "fs=4960\n",
    "rs=np.array(Signal)\n",
    "\n",
    "File2 = DataDir + '/Mua.mat'\n",
    "mat_contents2 = sci_io.loadmat(File2)\n",
    "Mua=mat_contents2['Mua']\n",
    "\n",
    "fsMua=198.4127\n",
    "\n",
    "MUA=np.zeros((32,np.shape(rs)[1]))\n",
    "for i in range(32):\n",
    "    MUA[i,:]=resample(Mua[i],np.shape(rs)[1])"
   ]
  },
  {
   "cell_type": "code",
   "execution_count": 3,
   "metadata": {},
   "outputs": [],
   "source": [
    "analytic_signal=[]\n",
    "amplitude_envelope=[]\n",
    "instantaneous_phase=np.zeros((32,np.shape(rs)[1]))\n",
    "iph=np.zeros((32,np.shape(rs)[1]))\n",
    "instantaneous_frequency=np.zeros((32,np.shape(rs)[1]))\n",
    "\n",
    "for ch in range(len(rs)):\n",
    "    an_sig=hilbert(rs[ch])\n",
    "#     analytic_signal=(an_sig)\n",
    "#     amplitude_envelope=(np.abs(an_sig))\n",
    "    instantaneous_phase[ch,:]=((np.angle(an_sig)))\n",
    "    iph[ch,:]=np.unwrap(np.angle(an_sig))\n",
    "#     instantaneous_frequency[ch,:] = (np.diff(iph) /(2.0*np.pi) * fs)"
   ]
  },
  {
   "cell_type": "code",
   "execution_count": 4,
   "metadata": {},
   "outputs": [
    {
     "name": "stdout",
     "output_type": "stream",
     "text": [
      "Using matplotlib backend: Qt5Agg\n",
      "Populating the interactive namespace from numpy and matplotlib\n"
     ]
    }
   ],
   "source": [
    "%pylab"
   ]
  },
  {
   "cell_type": "code",
   "execution_count": 5,
   "metadata": {},
   "outputs": [],
   "source": [
    "plt.figure(figsize=(15, 5))\n",
    "ax=plt.subplot(211)\n",
    "plt.plot(instantaneous_phase[0])\n",
    "plt.plot(instantaneous_phase[6])\n",
    "plt.plot(instantaneous_phase[14])\n",
    "plt.plot(instantaneous_phase[31])\n",
    "plt.subplot(212,sharex=ax)\n",
    "plt.plot(MUA[0])\n",
    "plt.plot(MUA[6])\n",
    "plt.plot(MUA[14])\n",
    "plt.plot(MUA[31])\n",
    "plt.show()"
   ]
  },
  {
   "cell_type": "code",
   "execution_count": 6,
   "metadata": {},
   "outputs": [],
   "source": [
    "B=np.arange(-math.pi,math.pi+0.15707963267948966,0.15707963267948966)"
   ]
  },
  {
   "cell_type": "code",
   "execution_count": 7,
   "metadata": {},
   "outputs": [],
   "source": [
    "ph=np.empty((32))\n",
    "H=np.zeros((np.shape(B)[0]-1,np.shape(rs)[1]))\n",
    "\n",
    "for t in range(len(instantaneous_phase[0])):\n",
    "    for ch in range(len(instantaneous_phase)):\n",
    "#         print(ch,t)\n",
    "        ph[ch]=instantaneous_phase[ch][t]\n",
    "    hist, b = np.histogram(ph,bins=B)\n",
    "    H[:,t]=hist\n",
    "    ph=np.empty((32))\n",
    "    "
   ]
  },
  {
   "cell_type": "code",
   "execution_count": 9,
   "metadata": {},
   "outputs": [
    {
     "data": {
      "text/plain": [
       "[<matplotlib.lines.Line2D at 0x1d4979def60>]"
      ]
     },
     "execution_count": 9,
     "metadata": {},
     "output_type": "execute_result"
    }
   ],
   "source": [
    "plt.figure(figsize=(15, 5))\n",
    "ax1=plt.subplot(211)\n",
    "ax=plt.imshow(H, aspect='auto')\n",
    "# ax.set_clim(0,15)\n",
    "# plt.colorbar(ax)\n",
    "plt.title('Phase Histogram')\n",
    "plt.ylabel('phase bins')\n",
    "plt.xlabel('samples')\n",
    "plt.subplot(212, sharex=ax1)\n",
    "plt.plot(MUA[0])\n",
    "plt.plot(MUA[31])\n"
   ]
  },
  {
   "cell_type": "code",
   "execution_count": null,
   "metadata": {},
   "outputs": [],
   "source": []
  }
 ],
 "metadata": {
  "kernelspec": {
   "display_name": "Python 3",
   "language": "python",
   "name": "python3"
  },
  "language_info": {
   "codemirror_mode": {
    "name": "ipython",
    "version": 3
   },
   "file_extension": ".py",
   "mimetype": "text/x-python",
   "name": "python",
   "nbconvert_exporter": "python",
   "pygments_lexer": "ipython3",
   "version": "3.7.0"
  }
 },
 "nbformat": 4,
 "nbformat_minor": 2
}
